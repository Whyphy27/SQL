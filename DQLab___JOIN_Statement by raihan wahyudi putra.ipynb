{
  "cells": [
    {
      "cell_type": "markdown",
      "metadata": {
        "id": "M0TwZuZNWm_r"
      },
      "source": [
        "# <b>A. <span style='color:#0B2F9F'><code>PREFIX</code></span></b>\n",
        "Prefix merupakan penggunaan awalan pada nama tabel untuk memberikan informasi tambahan atau untuk mengelompokkan objek-objek tertentu. Sebagai contoh perhatikan gambar berikut : <br><br>\n",
        "\n",
        "<img src=\"https://raw.githubusercontent.com/bachtiyarma/Material/refs/heads/main/Image/Materi-SQL/SQL%20-%20Prefix.png\" width=\"50%\">\n",
        "\n",
        "<br><br>\n",
        "Nama tabel dimisalkan (diberi alias) sebagai tbl, lalu untuk mengakses kolom pada tabel tersebut bisa diberi prefix tbl.kolom1 dan seterusnya"
      ]
    },
    {
      "cell_type": "markdown",
      "metadata": {
        "id": "gqjQ-F07Wm_s"
      },
      "source": [
        "#### <i><b><span style='color:#55679C'>Quest</span> : Pada tabel customer_demography, ambil kolom customer_id, gender, age dan married namun gunakan alias 'cdm' pada nama tabel dan sematkan prefixnya saat mengakses kolom!</b></i>"
      ]
    },
    {
      "cell_type": "code",
      "execution_count": null,
      "metadata": {
        "id": "EumWiJYnWm_s",
        "outputId": "c484b649-2451-4bf7-e10c-b61c7aa51ede"
      },
      "outputs": [
        {
          "data": {
            "text/html": [
              "<style type=\"text/css\">\n",
              "</style>\n",
              "<table id=\"T_aba70\">\n",
              "  <thead>\n",
              "    <tr>\n",
              "      <th id=\"T_aba70_level0_col0\" class=\"col_heading level0 col0\" >customer_id</th>\n",
              "      <th id=\"T_aba70_level0_col1\" class=\"col_heading level0 col1\" >gender</th>\n",
              "      <th id=\"T_aba70_level0_col2\" class=\"col_heading level0 col2\" >age</th>\n",
              "      <th id=\"T_aba70_level0_col3\" class=\"col_heading level0 col3\" >married</th>\n",
              "    </tr>\n",
              "  </thead>\n",
              "  <tbody>\n",
              "    <tr>\n",
              "      <td id=\"T_aba70_row0_col0\" class=\"data row0 col0\" >8779-QRDMV</td>\n",
              "      <td id=\"T_aba70_row0_col1\" class=\"data row0 col1\" >Male</td>\n",
              "      <td id=\"T_aba70_row0_col2\" class=\"data row0 col2\" >78</td>\n",
              "      <td id=\"T_aba70_row0_col3\" class=\"data row0 col3\" >No</td>\n",
              "    </tr>\n",
              "    <tr>\n",
              "      <td id=\"T_aba70_row1_col0\" class=\"data row1 col0\" >7495-OOKFY</td>\n",
              "      <td id=\"T_aba70_row1_col1\" class=\"data row1 col1\" >Female</td>\n",
              "      <td id=\"T_aba70_row1_col2\" class=\"data row1 col2\" >74</td>\n",
              "      <td id=\"T_aba70_row1_col3\" class=\"data row1 col3\" >Yes</td>\n",
              "    </tr>\n",
              "    <tr>\n",
              "      <td id=\"T_aba70_row2_col0\" class=\"data row2 col0\" >1658-BYGOY</td>\n",
              "      <td id=\"T_aba70_row2_col1\" class=\"data row2 col1\" >Male</td>\n",
              "      <td id=\"T_aba70_row2_col2\" class=\"data row2 col2\" >71</td>\n",
              "      <td id=\"T_aba70_row2_col3\" class=\"data row2 col3\" >No</td>\n",
              "    </tr>\n",
              "    <tr>\n",
              "      <td id=\"T_aba70_row3_col0\" class=\"data row3 col0\" >4598-XLKNJ</td>\n",
              "      <td id=\"T_aba70_row3_col1\" class=\"data row3 col1\" >Female</td>\n",
              "      <td id=\"T_aba70_row3_col2\" class=\"data row3 col2\" >78</td>\n",
              "      <td id=\"T_aba70_row3_col3\" class=\"data row3 col3\" >Yes</td>\n",
              "    </tr>\n",
              "    <tr>\n",
              "      <td id=\"T_aba70_row4_col0\" class=\"data row4 col0\" >4846-WHAFZ</td>\n",
              "      <td id=\"T_aba70_row4_col1\" class=\"data row4 col1\" >Female</td>\n",
              "      <td id=\"T_aba70_row4_col2\" class=\"data row4 col2\" >80</td>\n",
              "      <td id=\"T_aba70_row4_col3\" class=\"data row4 col3\" >Yes</td>\n",
              "    </tr>\n",
              "    <tr>\n",
              "      <td id=\"T_aba70_row5_col0\" class=\"data row5 col0\" >4412-YLTKF</td>\n",
              "      <td id=\"T_aba70_row5_col1\" class=\"data row5 col1\" >Female</td>\n",
              "      <td id=\"T_aba70_row5_col2\" class=\"data row5 col2\" >72</td>\n",
              "      <td id=\"T_aba70_row5_col3\" class=\"data row5 col3\" >No</td>\n",
              "    </tr>\n",
              "    <tr>\n",
              "      <td id=\"T_aba70_row6_col0\" class=\"data row6 col0\" >0390-DCFDQ</td>\n",
              "      <td id=\"T_aba70_row6_col1\" class=\"data row6 col1\" >Female</td>\n",
              "      <td id=\"T_aba70_row6_col2\" class=\"data row6 col2\" >76</td>\n",
              "      <td id=\"T_aba70_row6_col3\" class=\"data row6 col3\" >Yes</td>\n",
              "    </tr>\n",
              "    <tr>\n",
              "      <td id=\"T_aba70_row7_col0\" class=\"data row7 col0\" >3445-HXXGF</td>\n",
              "      <td id=\"T_aba70_row7_col1\" class=\"data row7 col1\" >Male</td>\n",
              "      <td id=\"T_aba70_row7_col2\" class=\"data row7 col2\" >66</td>\n",
              "      <td id=\"T_aba70_row7_col3\" class=\"data row7 col3\" >Yes</td>\n",
              "    </tr>\n",
              "    <tr>\n",
              "      <td id=\"T_aba70_row8_col0\" class=\"data row8 col0\" >2656-FMOKZ</td>\n",
              "      <td id=\"T_aba70_row8_col1\" class=\"data row8 col1\" >Female</td>\n",
              "      <td id=\"T_aba70_row8_col2\" class=\"data row8 col2\" >70</td>\n",
              "      <td id=\"T_aba70_row8_col3\" class=\"data row8 col3\" >No</td>\n",
              "    </tr>\n",
              "    <tr>\n",
              "      <td id=\"T_aba70_row9_col0\" class=\"data row9 col0\" >2070-FNEXE</td>\n",
              "      <td id=\"T_aba70_row9_col1\" class=\"data row9 col1\" >Female</td>\n",
              "      <td id=\"T_aba70_row9_col2\" class=\"data row9 col2\" >77</td>\n",
              "      <td id=\"T_aba70_row9_col3\" class=\"data row9 col3\" >No</td>\n",
              "    </tr>\n",
              "    <tr>\n",
              "      <td id=\"T_aba70_row10_col0\" class=\"data row10 col0\" >...</td>\n",
              "      <td id=\"T_aba70_row10_col1\" class=\"data row10 col1\" >...</td>\n",
              "      <td id=\"T_aba70_row10_col2\" class=\"data row10 col2\" >...</td>\n",
              "      <td id=\"T_aba70_row10_col3\" class=\"data row10 col3\" >...</td>\n",
              "    </tr>\n",
              "  </tbody>\n",
              "</table>\n"
            ],
            "text/plain": [
              "<pandas.io.formats.style.Styler at 0x14020cc50>"
            ]
          },
          "metadata": {},
          "output_type": "display_data"
        }
      ],
      "source": [
        "select cdm.customer_id, cdm.gender, cdm.age,cdm.married\n",
        "from `Telco_chum.customer _demography` as cdm"
      ]
    },
    {
      "cell_type": "markdown",
      "metadata": {
        "id": "c9kZzC1dWm_t"
      },
      "source": [
        "# <b>B. <span style='color:#0B2F9F'><code>JOIN</code></span></b>\n",
        "\n",
        "Data biasanya disimpan di berbagai tabel atau sistem yang berbeda pada RDBMS (Relational Database Management System). JOIN memungkinkan pengguna untuk menggabungkan data dari berbagai sumber untuk mendapatkan gambaran yang lebih lengkap. Memahami query JOIN memungkinkan seorang pengguna untuk mengintegrasikan dan menganalisis data secara efektif, sehingga dapat meningkatkan kualitas analisis dan mendukung pengambilan keputusan berbasis data.\n",
        "\n",
        "Operasi JOIN standar dapat dilakukan jika terdapat kunci pada tiap tabel yang saling terhubung. Operasi join dasar yang paling umum digunakan ada 4 yakni :\n",
        "<ul>\n",
        "    <li><b>LEFT JOIN</b></li>\n",
        "    LEFT JOIN adalah jenis operasi penggabungan baris dari dua tabel, tetapi hanya mengembalikan semua baris dari tabel kiri (tabel pertama) dan baris yang cocok dari tabel kanan (tabel kedua). Jika tidak ada kecocokan di tabel kanan, maka nilai-nilai untuk kolom dari tabel kanan akan diisi dengan NULL.<br><br>\n",
        "    <img src=\"https://thomasadventure.blog/img/left-join-extra.gif\" width=\"20%\">\n",
        "    <br><br>\n",
        "    <li><b>RIGHT JOIN</b></li>\n",
        "    RIGHT JOIN adalah jenis operasi penggabungan baris dari dua tabel, tetapi hanya mengembalikan semua baris dari tabel kanan (tabel kedua) dan baris yang cocok dari tabel kiri (tabel pertama). Jika tidak ada kecocokan di tabel kiri, maka nilai-nilai untuk kolom dari tabel kiri akan diisi dengan NULL.<br><br>\n",
        "    <img src=\"https://thomasadventure.blog/img/right-join.gif\" width=\"20%\">\n",
        "    <br><br>\n",
        "    <li><b>INNER JOIN</b></li>\n",
        "    INNER JOIN adalah jenis operasi penggabungan yang hanya mengembalikan baris yang memiliki kecocokan di kedua tabel berdasarkan kriteria tertentu.<br><br>\n",
        "    <img src=\"https://thomasadventure.blog/img/inner-join.gif\" width=\"20%\">\n",
        "    <br><br>\n",
        "     <li><b>FULL JOIN</b></li>\n",
        "    FULL JOIN adalah jenis operasi penggabungan semua baris dari kedua tabel, baik yang memiliki kecocokan maupun yang tidak. Dengan demikian, hasilnya akan mencakup semua data dari tabel kiri dan tabel kanan.<br><br>\n",
        "    <img src=\"https://thomasadventure.blog/img/full-join.gif\" width=\"20%\">\n",
        "    <br><br>\n",
        "</ul>"
      ]
    },
    {
      "cell_type": "markdown",
      "metadata": {
        "id": "AjAjE6KYWm_t"
      },
      "source": [
        "#### <i><b><span style='color:#55679C'>Pre-Quest</span>\n",
        "Untuk melakukan join biasanya akan lebih mudah jika arsitektur relasi antar tabel atau biasa dikenal ERD (Entity Relational Diagram) telah dibuat atau diketahui. Pada data telco churn ERD-nya disajikan pada gambar berikut<br><br>\n",
        "\n",
        "<img src=\"https://raw.githubusercontent.com/bachtiyarma/Material/refs/heads/main/Image/Materi-SQL/ERD%20-%20Telco%20Churn.png\" width=\"40%\">"
      ]
    },
    {
      "cell_type": "markdown",
      "metadata": {
        "id": "5SSjuMh9Wm_t"
      },
      "source": [
        "#### <i><b><span style='color:#55679C'>Quest : </span>Hitung berapa rata-rata biaya bulanan tiap status customer! Tampilkan status, total_customer, avg_monthly_charge! Interpretasikan insight dari hasil perhitungan!"
      ]
    },
    {
      "cell_type": "code",
      "execution_count": null,
      "metadata": {
        "id": "mNtz4ao_Wm_t",
        "outputId": "7712d92d-068a-4303-ebed-97b62273146b"
      },
      "outputs": [
        {
          "data": {
            "text/html": [
              "<style type=\"text/css\">\n",
              "</style>\n",
              "<table id=\"T_61b47\">\n",
              "  <thead>\n",
              "    <tr>\n",
              "      <th id=\"T_61b47_level0_col0\" class=\"col_heading level0 col0\" >status</th>\n",
              "      <th id=\"T_61b47_level0_col1\" class=\"col_heading level0 col1\" >total_customer</th>\n",
              "      <th id=\"T_61b47_level0_col2\" class=\"col_heading level0 col2\" >avg_monthly_charge</th>\n",
              "    </tr>\n",
              "  </thead>\n",
              "  <tbody>\n",
              "    <tr>\n",
              "      <td id=\"T_61b47_row0_col0\" class=\"data row0 col0\" >Churned</td>\n",
              "      <td id=\"T_61b47_row0_col1\" class=\"data row0 col1\" >1869</td>\n",
              "      <td id=\"T_61b47_row0_col2\" class=\"data row0 col2\" >74.44</td>\n",
              "    </tr>\n",
              "    <tr>\n",
              "      <td id=\"T_61b47_row1_col0\" class=\"data row1 col0\" >Joined</td>\n",
              "      <td id=\"T_61b47_row1_col1\" class=\"data row1 col1\" >454</td>\n",
              "      <td id=\"T_61b47_row1_col2\" class=\"data row1 col2\" >43.47</td>\n",
              "    </tr>\n",
              "    <tr>\n",
              "      <td id=\"T_61b47_row2_col0\" class=\"data row2 col0\" >Stayed</td>\n",
              "      <td id=\"T_61b47_row2_col1\" class=\"data row2 col1\" >4720</td>\n",
              "      <td id=\"T_61b47_row2_col2\" class=\"data row2 col2\" >62.98</td>\n",
              "    </tr>\n",
              "  </tbody>\n",
              "</table>\n"
            ],
            "text/plain": [
              "<pandas.io.formats.style.Styler at 0x140326850>"
            ]
          },
          "metadata": {},
          "output_type": "display_data"
        }
      ],
      "source": [
        "select\n",
        "  sts.status,\n",
        "  count(srv.customer_id) as total_customer,\n",
        "  round(avg(srv.monthly_charge),2) as avg_monthly_charge\n",
        "from `Telco_chum.customer_status`sts\n",
        "left join `Telco_chum.telco_services` srv on sts.customer_id = srv.customer_id\n",
        "group by sts.status"
      ]
    },
    {
      "cell_type": "markdown",
      "metadata": {
        "id": "AfOicdYFWm_t"
      },
      "source": [
        "<b><span style='color:#FFDB00'><i>Interpretasi Hasil : </i></span></b><br>\n",
        "Didapatkan bahwa blablbal"
      ]
    },
    {
      "cell_type": "markdown",
      "metadata": {
        "id": "IYXko43AWm_t"
      },
      "source": [
        "#### <i><b><span style='color:#55679C'>Quest : </span>Coba Sudut Pandang Lebih Luas; Hitung berapa banyak customer, rata-rata biaya bulanan & rata-rata umur tiap status customer, gender dan status pernikahannya! Tampilkan status, gender, married, total_customer, avg_monthly_charge! Urutkan hasilnya per metrik perhitungan dan Interpretasikan insight dari hasil perhitungan!"
      ]
    },
    {
      "cell_type": "code",
      "execution_count": null,
      "metadata": {
        "id": "FB57ODPHWm_u",
        "outputId": "896b1611-b647-4252-dc05-c81a07ddc212"
      },
      "outputs": [
        {
          "data": {
            "text/html": [
              "<style type=\"text/css\">\n",
              "</style>\n",
              "<table id=\"T_ebe24\">\n",
              "  <thead>\n",
              "    <tr>\n",
              "      <th id=\"T_ebe24_level0_col0\" class=\"col_heading level0 col0\" >status</th>\n",
              "      <th id=\"T_ebe24_level0_col1\" class=\"col_heading level0 col1\" >gender</th>\n",
              "      <th id=\"T_ebe24_level0_col2\" class=\"col_heading level0 col2\" >married</th>\n",
              "      <th id=\"T_ebe24_level0_col3\" class=\"col_heading level0 col3\" >total_customer</th>\n",
              "      <th id=\"T_ebe24_level0_col4\" class=\"col_heading level0 col4\" >avg_monthly_charge</th>\n",
              "    </tr>\n",
              "  </thead>\n",
              "  <tbody>\n",
              "    <tr>\n",
              "      <td id=\"T_ebe24_row0_col0\" class=\"data row0 col0\" >Churned</td>\n",
              "      <td id=\"T_ebe24_row0_col1\" class=\"data row0 col1\" >Female</td>\n",
              "      <td id=\"T_ebe24_row0_col2\" class=\"data row0 col2\" >Yes</td>\n",
              "      <td id=\"T_ebe24_row0_col3\" class=\"data row0 col3\" >319</td>\n",
              "      <td id=\"T_ebe24_row0_col4\" class=\"data row0 col4\" >78.0</td>\n",
              "    </tr>\n",
              "    <tr>\n",
              "      <td id=\"T_ebe24_row1_col0\" class=\"data row1 col0\" >Churned</td>\n",
              "      <td id=\"T_ebe24_row1_col1\" class=\"data row1 col1\" >Female</td>\n",
              "      <td id=\"T_ebe24_row1_col2\" class=\"data row1 col2\" >No</td>\n",
              "      <td id=\"T_ebe24_row1_col3\" class=\"data row1 col3\" >620</td>\n",
              "      <td id=\"T_ebe24_row1_col4\" class=\"data row1 col4\" >73.17</td>\n",
              "    </tr>\n",
              "    <tr>\n",
              "      <td id=\"T_ebe24_row2_col0\" class=\"data row2 col0\" >Churned</td>\n",
              "      <td id=\"T_ebe24_row2_col1\" class=\"data row2 col1\" >Male</td>\n",
              "      <td id=\"T_ebe24_row2_col2\" class=\"data row2 col2\" >Yes</td>\n",
              "      <td id=\"T_ebe24_row2_col3\" class=\"data row2 col3\" >350</td>\n",
              "      <td id=\"T_ebe24_row2_col4\" class=\"data row2 col4\" >81.45</td>\n",
              "    </tr>\n",
              "    <tr>\n",
              "      <td id=\"T_ebe24_row3_col0\" class=\"data row3 col0\" >Churned</td>\n",
              "      <td id=\"T_ebe24_row3_col1\" class=\"data row3 col1\" >Male</td>\n",
              "      <td id=\"T_ebe24_row3_col2\" class=\"data row3 col2\" >No</td>\n",
              "      <td id=\"T_ebe24_row3_col3\" class=\"data row3 col3\" >580</td>\n",
              "      <td id=\"T_ebe24_row3_col4\" class=\"data row3 col4\" >69.61</td>\n",
              "    </tr>\n",
              "    <tr>\n",
              "      <td id=\"T_ebe24_row4_col0\" class=\"data row4 col0\" >Joined</td>\n",
              "      <td id=\"T_ebe24_row4_col1\" class=\"data row4 col1\" >Female</td>\n",
              "      <td id=\"T_ebe24_row4_col2\" class=\"data row4 col2\" >Yes</td>\n",
              "      <td id=\"T_ebe24_row4_col3\" class=\"data row4 col3\" >46</td>\n",
              "      <td id=\"T_ebe24_row4_col4\" class=\"data row4 col4\" >43.75</td>\n",
              "    </tr>\n",
              "    <tr>\n",
              "      <td id=\"T_ebe24_row5_col0\" class=\"data row5 col0\" >Joined</td>\n",
              "      <td id=\"T_ebe24_row5_col1\" class=\"data row5 col1\" >Female</td>\n",
              "      <td id=\"T_ebe24_row5_col2\" class=\"data row5 col2\" >No</td>\n",
              "      <td id=\"T_ebe24_row5_col3\" class=\"data row5 col3\" >165</td>\n",
              "      <td id=\"T_ebe24_row5_col4\" class=\"data row5 col4\" >43.47</td>\n",
              "    </tr>\n",
              "    <tr>\n",
              "      <td id=\"T_ebe24_row6_col0\" class=\"data row6 col0\" >Joined</td>\n",
              "      <td id=\"T_ebe24_row6_col1\" class=\"data row6 col1\" >Male</td>\n",
              "      <td id=\"T_ebe24_row6_col2\" class=\"data row6 col2\" >Yes</td>\n",
              "      <td id=\"T_ebe24_row6_col3\" class=\"data row6 col3\" >38</td>\n",
              "      <td id=\"T_ebe24_row6_col4\" class=\"data row6 col4\" >48.11</td>\n",
              "    </tr>\n",
              "    <tr>\n",
              "      <td id=\"T_ebe24_row7_col0\" class=\"data row7 col0\" >Joined</td>\n",
              "      <td id=\"T_ebe24_row7_col1\" class=\"data row7 col1\" >Male</td>\n",
              "      <td id=\"T_ebe24_row7_col2\" class=\"data row7 col2\" >No</td>\n",
              "      <td id=\"T_ebe24_row7_col3\" class=\"data row7 col3\" >205</td>\n",
              "      <td id=\"T_ebe24_row7_col4\" class=\"data row7 col4\" >42.55</td>\n",
              "    </tr>\n",
              "    <tr>\n",
              "      <td id=\"T_ebe24_row8_col0\" class=\"data row8 col0\" >Stayed</td>\n",
              "      <td id=\"T_ebe24_row8_col1\" class=\"data row8 col1\" >Female</td>\n",
              "      <td id=\"T_ebe24_row8_col2\" class=\"data row8 col2\" >Yes</td>\n",
              "      <td id=\"T_ebe24_row8_col3\" class=\"data row8 col3\" >1323</td>\n",
              "      <td id=\"T_ebe24_row8_col4\" class=\"data row8 col4\" >64.67</td>\n",
              "    </tr>\n",
              "    <tr>\n",
              "      <td id=\"T_ebe24_row9_col0\" class=\"data row9 col0\" >Stayed</td>\n",
              "      <td id=\"T_ebe24_row9_col1\" class=\"data row9 col1\" >Female</td>\n",
              "      <td id=\"T_ebe24_row9_col2\" class=\"data row9 col2\" >No</td>\n",
              "      <td id=\"T_ebe24_row9_col3\" class=\"data row9 col3\" >1015</td>\n",
              "      <td id=\"T_ebe24_row9_col4\" class=\"data row9 col4\" >61.51</td>\n",
              "    </tr>\n",
              "    <tr>\n",
              "      <td id=\"T_ebe24_row10_col0\" class=\"data row10 col0\" >Stayed</td>\n",
              "      <td id=\"T_ebe24_row10_col1\" class=\"data row10 col1\" >Male</td>\n",
              "      <td id=\"T_ebe24_row10_col2\" class=\"data row10 col2\" >Yes</td>\n",
              "      <td id=\"T_ebe24_row10_col3\" class=\"data row10 col3\" >1326</td>\n",
              "      <td id=\"T_ebe24_row10_col4\" class=\"data row10 col4\" >66.2</td>\n",
              "    </tr>\n",
              "    <tr>\n",
              "      <td id=\"T_ebe24_row11_col0\" class=\"data row11 col0\" >Stayed</td>\n",
              "      <td id=\"T_ebe24_row11_col1\" class=\"data row11 col1\" >Male</td>\n",
              "      <td id=\"T_ebe24_row11_col2\" class=\"data row11 col2\" >No</td>\n",
              "      <td id=\"T_ebe24_row11_col3\" class=\"data row11 col3\" >1056</td>\n",
              "      <td id=\"T_ebe24_row11_col4\" class=\"data row11 col4\" >58.21</td>\n",
              "    </tr>\n",
              "  </tbody>\n",
              "</table>\n"
            ],
            "text/plain": [
              "<pandas.io.formats.style.Styler at 0x156044c50>"
            ]
          },
          "metadata": {},
          "output_type": "display_data"
        }
      ],
      "source": [
        "SELECT\n",
        "  c.status,\n",
        "  b.gender,\n",
        "  b.married,\n",
        "  COUNT(a.customer_id) AS total_customer,\n",
        "  AVG(a.monthly_charge) AS avg_monthly_charge,\n",
        "FROM Telco_chum.telco_services a\n",
        "INNER JOIN `Telco_chum.customer _demography` b ON a.customer_id = b.customer_id\n",
        "INNER JOIN Telco_chum.customer_status c ON c.customer_id = a.customer_id\n",
        "GROUP BY c.status, b.gender, b.married\n",
        "ORDER BY c.status, b.gender, b.married"
      ]
    },
    {
      "cell_type": "markdown",
      "metadata": {
        "id": "5ZWmbEdQWm_u"
      },
      "source": [
        "<b><span style='color:#FFDB00'><i>Interpretasi Hasil : </i></span></b><br>\n",
        "..."
      ]
    },
    {
      "cell_type": "markdown",
      "metadata": {
        "id": "kmIYjYrMWm_u"
      },
      "source": [
        "#### <i><b><span style='color:#55679C'>Quest : </span>Bagaimana dengan total tenure ? Hitung berapa rata-rata tenure_in_month tiap status customer! Tampilkan status, total_customer, avg_tenure_in_month! Interpretasikan insight dari hasil perhitungan!"
      ]
    },
    {
      "cell_type": "code",
      "execution_count": null,
      "metadata": {
        "id": "t32QuraOWm_u",
        "outputId": "7b5b658b-11a1-4af8-bae4-08c3370eba6f"
      },
      "outputs": [
        {
          "data": {
            "text/html": [
              "<style type=\"text/css\">\n",
              "</style>\n",
              "<table id=\"T_9621b\">\n",
              "  <thead>\n",
              "    <tr>\n",
              "      <th id=\"T_9621b_level0_col0\" class=\"col_heading level0 col0\" >status</th>\n",
              "      <th id=\"T_9621b_level0_col1\" class=\"col_heading level0 col1\" >total_customer</th>\n",
              "      <th id=\"T_9621b_level0_col2\" class=\"col_heading level0 col2\" >avg_tenure_in_month</th>\n",
              "    </tr>\n",
              "  </thead>\n",
              "  <tbody>\n",
              "    <tr>\n",
              "      <td id=\"T_9621b_row0_col0\" class=\"data row0 col0\" >Churned</td>\n",
              "      <td id=\"T_9621b_row0_col1\" class=\"data row0 col1\" >1869</td>\n",
              "      <td id=\"T_9621b_row0_col2\" class=\"data row0 col2\" >17.98</td>\n",
              "    </tr>\n",
              "    <tr>\n",
              "      <td id=\"T_9621b_row1_col0\" class=\"data row1 col0\" >Joined</td>\n",
              "      <td id=\"T_9621b_row1_col1\" class=\"data row1 col1\" >454</td>\n",
              "      <td id=\"T_9621b_row1_col2\" class=\"data row1 col2\" >1.72</td>\n",
              "    </tr>\n",
              "    <tr>\n",
              "      <td id=\"T_9621b_row2_col0\" class=\"data row2 col0\" >Stayed</td>\n",
              "      <td id=\"T_9621b_row2_col1\" class=\"data row2 col1\" >4720</td>\n",
              "      <td id=\"T_9621b_row2_col2\" class=\"data row2 col2\" >41.04</td>\n",
              "    </tr>\n",
              "  </tbody>\n",
              "</table>\n"
            ],
            "text/plain": [
              "<pandas.io.formats.style.Styler at 0x1400c6790>"
            ]
          },
          "metadata": {},
          "output_type": "display_data"
        }
      ],
      "source": [
        "select\n",
        " sts.status,\n",
        " count(srv.customer_id)as total_customer,\n",
        " round(avg(srv.tenure_in_months),2) as avg_tenure_in_month\n",
        "from `Telco_chum.telco_services` as srv\n",
        "left join `Telco_chum.customer_status`sts on srv.customer_id = sts.customer_id\n",
        "group by sts.status"
      ]
    },
    {
      "cell_type": "markdown",
      "metadata": {
        "id": "HyQrYW4EWm_u"
      },
      "source": [
        "<b><span style='color:#FFDB00'><i>Interpretasi Hasil : </i></span></b><br>\n",
        "..."
      ]
    },
    {
      "cell_type": "markdown",
      "metadata": {
        "id": "83V5b6vSWm_u"
      },
      "source": [
        "#### <i><b><span style='color:#55679C'>Quest : </span>Perusahaan telekomunikasi ingin melakukan perluasan market ke beberapa daerah yang mana di daerah tersebut belum ada pelanggan terdaftar dalam database. Buatkan daftar kode pos pada tabel population yang sama sekali belum ada orang yang menggunakan layanan telekomunikasi! Tampilkan kode pos dan jumlah populasinya!"
      ]
    },
    {
      "cell_type": "code",
      "execution_count": null,
      "metadata": {
        "id": "S0Ml1Q9bWm_u",
        "outputId": "31fb7e76-bc71-4795-b7ec-b8162dc2aa5e"
      },
      "outputs": [
        {
          "data": {
            "text/html": [
              "<style type=\"text/css\">\n",
              "</style>\n",
              "<table id=\"T_8dab3\">\n",
              "  <thead>\n",
              "    <tr>\n",
              "      <th id=\"T_8dab3_level0_col0\" class=\"col_heading level0 col0\" >zip_code</th>\n",
              "      <th id=\"T_8dab3_level0_col1\" class=\"col_heading level0 col1\" >population</th>\n",
              "      <th id=\"T_8dab3_level0_col2\" class=\"col_heading level0 col2\" >total_customer</th>\n",
              "    </tr>\n",
              "  </thead>\n",
              "  <tbody>\n",
              "    <tr>\n",
              "      <td id=\"T_8dab3_row0_col0\" class=\"data row0 col0\" >91402</td>\n",
              "      <td id=\"T_8dab3_row0_col1\" class=\"data row0 col1\" >66249</td>\n",
              "      <td id=\"T_8dab3_row0_col2\" class=\"data row0 col2\" >0</td>\n",
              "    </tr>\n",
              "    <tr>\n",
              "      <td id=\"T_8dab3_row1_col0\" class=\"data row1 col0\" >95023</td>\n",
              "      <td id=\"T_8dab3_row1_col1\" class=\"data row1 col1\" >47514</td>\n",
              "      <td id=\"T_8dab3_row1_col2\" class=\"data row1 col2\" >0</td>\n",
              "    </tr>\n",
              "    <tr>\n",
              "      <td id=\"T_8dab3_row2_col0\" class=\"data row2 col0\" >90020</td>\n",
              "      <td id=\"T_8dab3_row2_col1\" class=\"data row2 col1\" >42394</td>\n",
              "      <td id=\"T_8dab3_row2_col2\" class=\"data row2 col2\" >0</td>\n",
              "    </tr>\n",
              "    <tr>\n",
              "      <td id=\"T_8dab3_row3_col0\" class=\"data row3 col0\" >92307</td>\n",
              "      <td id=\"T_8dab3_row3_col1\" class=\"data row3 col1\" >31876</td>\n",
              "      <td id=\"T_8dab3_row3_col2\" class=\"data row3 col2\" >0</td>\n",
              "    </tr>\n",
              "    <tr>\n",
              "      <td id=\"T_8dab3_row4_col0\" class=\"data row4 col0\" >93555</td>\n",
              "      <td id=\"T_8dab3_row4_col1\" class=\"data row4 col1\" >29782</td>\n",
              "      <td id=\"T_8dab3_row4_col2\" class=\"data row4 col2\" >0</td>\n",
              "    </tr>\n",
              "    <tr>\n",
              "      <td id=\"T_8dab3_row5_col0\" class=\"data row5 col0\" >95531</td>\n",
              "      <td id=\"T_8dab3_row5_col1\" class=\"data row5 col1\" >23792</td>\n",
              "      <td id=\"T_8dab3_row5_col2\" class=\"data row5 col2\" >0</td>\n",
              "    </tr>\n",
              "    <tr>\n",
              "      <td id=\"T_8dab3_row6_col0\" class=\"data row6 col0\" >92277</td>\n",
              "      <td id=\"T_8dab3_row6_col1\" class=\"data row6 col1\" >17178</td>\n",
              "      <td id=\"T_8dab3_row6_col2\" class=\"data row6 col2\" >0</td>\n",
              "    </tr>\n",
              "    <tr>\n",
              "      <td id=\"T_8dab3_row7_col0\" class=\"data row7 col0\" >96161</td>\n",
              "      <td id=\"T_8dab3_row7_col1\" class=\"data row7 col1\" >15783</td>\n",
              "      <td id=\"T_8dab3_row7_col2\" class=\"data row7 col2\" >0</td>\n",
              "    </tr>\n",
              "    <tr>\n",
              "      <td id=\"T_8dab3_row8_col0\" class=\"data row8 col0\" >93640</td>\n",
              "      <td id=\"T_8dab3_row8_col1\" class=\"data row8 col1\" >9174</td>\n",
              "      <td id=\"T_8dab3_row8_col2\" class=\"data row8 col2\" >0</td>\n",
              "    </tr>\n",
              "    <tr>\n",
              "      <td id=\"T_8dab3_row9_col0\" class=\"data row9 col0\" >96064</td>\n",
              "      <td id=\"T_8dab3_row9_col1\" class=\"data row9 col1\" >4592</td>\n",
              "      <td id=\"T_8dab3_row9_col2\" class=\"data row9 col2\" >0</td>\n",
              "    </tr>\n",
              "    <tr>\n",
              "      <td id=\"T_8dab3_row10_col0\" class=\"data row10 col0\" >...</td>\n",
              "      <td id=\"T_8dab3_row10_col1\" class=\"data row10 col1\" >...</td>\n",
              "      <td id=\"T_8dab3_row10_col2\" class=\"data row10 col2\" >...</td>\n",
              "    </tr>\n",
              "  </tbody>\n",
              "</table>\n"
            ],
            "text/plain": [
              "<pandas.io.formats.style.Styler at 0x1511ce350>"
            ]
          },
          "metadata": {},
          "output_type": "display_data"
        }
      ],
      "source": [
        "SELECT DISTINCT\n",
        "  l.zip_code AS zip_code_from_cust,\n",
        "  p.zip_code,\n",
        "  p.population\n",
        "FROM Telco_chum.customer_location AS l\n",
        "RIGHT JOIN Telco_chum.population AS p ON l.zip_code = p.zip_code\n",
        "WHERE l.zip_code IS NULL;"
      ]
    },
    {
      "cell_type": "markdown",
      "metadata": {
        "id": "fvF2sbELWm_v"
      },
      "source": [
        "\n",
        "\n",
        "#### <i><b><span style='color:#55679C'>Quest 1 : </span> Berapa rata-rata nilai CLTV untuk setiap kategori churn?"
      ]
    },
    {
      "cell_type": "code",
      "execution_count": null,
      "metadata": {
        "id": "Mcs9TL1sWm_v"
      },
      "outputs": [],
      "source": [
        "SELECT churn_category, ROUND(AVG(cltv), 2) AS avg_cltv\n",
        "FROM `Telco_chum.customer_status`\n",
        "GROUP BY churn_category\n",
        "ORDER BY avg_cltv DESC;"
      ]
    },
    {
      "cell_type": "markdown",
      "source": [
        "![1123.PNG](data:image/png;base64,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)"
      ],
      "metadata": {
        "id": "jTeG92CC5NX5"
      }
    },
    {
      "cell_type": "markdown",
      "source": [
        "<b><span style='color:#FFDB00'><i>Interpretasi Hasil :menunjukkan bahwa pelanggan dengan nilai CLTV tinggi cenderung berpindah ke kompetitor, bukan karena harga atau ketidakpuasan. </i></span></b><br>"
      ],
      "metadata": {
        "id": "Wc7F_xlC8Dt8"
      }
    },
    {
      "cell_type": "markdown",
      "metadata": {
        "id": "IQq5RV1rWm_v"
      },
      "source": [
        "#### <i><b><span style='color:#55679C'>Quest 2 : </span> Kota mana yang memiliki jumlah pelanggan churn tertinggi?"
      ]
    },
    {
      "cell_type": "code",
      "execution_count": null,
      "metadata": {
        "id": "ubcEOV3FWm_v"
      },
      "outputs": [],
      "source": [
        "SELECT cl.city, COUNT(cs.customer_id) AS jumlah_churn\n",
        "FROM `Telco_chum.customer_status` cs\n",
        "JOIN `Telco_chum.customer_location` cl ON cs.customer_id = cl.customer_id\n",
        "GROUP BY cl.city\n",
        "ORDER BY jumlah_churn DESC\n",
        "limit 1"
      ]
    },
    {
      "cell_type": "markdown",
      "source": [
        "![12w.PNG](data:image/png;base64,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)"
      ],
      "metadata": {
        "id": "HToXR1F_8nRY"
      }
    },
    {
      "cell_type": "markdown",
      "source": [
        "<b><span style='color:#FFDB00'><i>Interpretasi Hasil : Kualitas layanan di Los Angeles mungkin lebih rendah, seperti jaringan tidak stabil atau harga lebih mahal dibanding kota lain. Perusahaan perlu menganalisis lebih dalam penyebab churn di LA, misalnya dengan feedback pelanggan. </i></span></b><br>"
      ],
      "metadata": {
        "id": "kn86ZA3O8nmU"
      }
    },
    {
      "cell_type": "markdown",
      "source": [
        "\n",
        "---\n",
        "Powered by : <br>\n",
        "<img src=\"https://lh3.googleusercontent.com/ayfbbgvQolM_Ys9VYRVFD6FjDJXSebI9sN1VtY4ppp65dXepA6JCKgKMM_porWAErGQmc8l-L_RXq080SJ3FbYTIsyxYqWWTuAX8A3VtafWLUwAnnxNnjR1s-3BMCUlF34fYnViLuutxrLm3nEpoix0\" width=\"20%\">\n",
        "<br><br>\n",
        "<a href=\"https://www.linkedin.com/in/raihan-wahyudi-putra-898282216?originalSubdomain=id\"><img src=\"https://img.shields.io/badge/-© 2024 raihan wahyudi putra-1298AC?style=for-the-badge&logoColor=white\"/></a>"
      ],
      "metadata": {
        "id": "DqsrXcr7XB8E"
      }
    }
  ],
  "metadata": {
    "kernelspec": {
      "display_name": "base",
      "language": "python",
      "name": "python3"
    },
    "language_info": {
      "codemirror_mode": {
        "name": "ipython",
        "version": 3
      },
      "file_extension": ".py",
      "mimetype": "text/x-python",
      "name": "python",
      "nbconvert_exporter": "python",
      "pygments_lexer": "ipython3",
      "version": "3.11.8"
    },
    "colab": {
      "provenance": []
    }
  },
  "nbformat": 4,
  "nbformat_minor": 0
}